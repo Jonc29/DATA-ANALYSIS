{
  "cells": [
    {
      "cell_type": "markdown",
      "metadata": {
        "id": "view-in-github",
        "colab_type": "text"
      },
      "source": [
        "<a href=\"https://colab.research.google.com/github/Jonc29/DATA-ANALYSIS/blob/main/Evaluating_the_Impact_of_Marketing_Campaigns.ipynb\" target=\"_parent\"><img src=\"https://colab.research.google.com/assets/colab-badge.svg\" alt=\"Open In Colab\"/></a>"
      ]
    },
    {
      "cell_type": "markdown",
      "id": "469c20ba-e081-4160-b3a2-fe41dc04217a",
      "metadata": {
        "id": "469c20ba-e081-4160-b3a2-fe41dc04217a"
      },
      "source": [
        "# Evaluating the Impact of Marketing Campaigns"
      ]
    },
    {
      "cell_type": "code",
      "execution_count": null,
      "id": "7a2ba8cd-cfd6-4e14-b8ac-02f4ac5ccf88",
      "metadata": {
        "id": "7a2ba8cd-cfd6-4e14-b8ac-02f4ac5ccf88"
      },
      "outputs": [],
      "source": [
        "#importing Libraries\n",
        "import pandas as pd\n",
        "import numpy as np\n",
        "import matplotlib.pyplot as plt\n",
        "import seaborn as sns\n",
        "from statsmodels.stats.proportion import proportions_ztest"
      ]
    },
    {
      "cell_type": "code",
      "execution_count": null,
      "id": "069d9de9-8039-43f7-be34-98c9c35fc689",
      "metadata": {
        "id": "069d9de9-8039-43f7-be34-98c9c35fc689",
        "outputId": "48c3feac-c340-41d3-9e27-fdf9d359a5d0"
      },
      "outputs": [
        {
          "data": {
            "text/html": [
              "<div>\n",
              "<style scoped>\n",
              "    .dataframe tbody tr th:only-of-type {\n",
              "        vertical-align: middle;\n",
              "    }\n",
              "\n",
              "    .dataframe tbody tr th {\n",
              "        vertical-align: top;\n",
              "    }\n",
              "\n",
              "    .dataframe thead th {\n",
              "        text-align: right;\n",
              "    }\n",
              "</style>\n",
              "<table border=\"1\" class=\"dataframe\">\n",
              "  <thead>\n",
              "    <tr style=\"text-align: right;\">\n",
              "      <th></th>\n",
              "      <th>Unnamed: 0</th>\n",
              "      <th>user id</th>\n",
              "      <th>test group</th>\n",
              "      <th>converted</th>\n",
              "      <th>total ads</th>\n",
              "      <th>most ads day</th>\n",
              "      <th>most ads hour</th>\n",
              "    </tr>\n",
              "  </thead>\n",
              "  <tbody>\n",
              "    <tr>\n",
              "      <th>0</th>\n",
              "      <td>0</td>\n",
              "      <td>1069124</td>\n",
              "      <td>ad</td>\n",
              "      <td>False</td>\n",
              "      <td>130</td>\n",
              "      <td>Monday</td>\n",
              "      <td>20</td>\n",
              "    </tr>\n",
              "    <tr>\n",
              "      <th>1</th>\n",
              "      <td>1</td>\n",
              "      <td>1119715</td>\n",
              "      <td>ad</td>\n",
              "      <td>False</td>\n",
              "      <td>93</td>\n",
              "      <td>Tuesday</td>\n",
              "      <td>22</td>\n",
              "    </tr>\n",
              "    <tr>\n",
              "      <th>2</th>\n",
              "      <td>2</td>\n",
              "      <td>1144181</td>\n",
              "      <td>ad</td>\n",
              "      <td>False</td>\n",
              "      <td>21</td>\n",
              "      <td>Tuesday</td>\n",
              "      <td>18</td>\n",
              "    </tr>\n",
              "    <tr>\n",
              "      <th>3</th>\n",
              "      <td>3</td>\n",
              "      <td>1435133</td>\n",
              "      <td>ad</td>\n",
              "      <td>False</td>\n",
              "      <td>355</td>\n",
              "      <td>Tuesday</td>\n",
              "      <td>10</td>\n",
              "    </tr>\n",
              "    <tr>\n",
              "      <th>4</th>\n",
              "      <td>4</td>\n",
              "      <td>1015700</td>\n",
              "      <td>ad</td>\n",
              "      <td>False</td>\n",
              "      <td>276</td>\n",
              "      <td>Friday</td>\n",
              "      <td>14</td>\n",
              "    </tr>\n",
              "  </tbody>\n",
              "</table>\n",
              "</div>"
            ],
            "text/plain": [
              "   Unnamed: 0  user id test group  converted  total ads most ads day  \\\n",
              "0           0  1069124         ad      False        130       Monday   \n",
              "1           1  1119715         ad      False         93      Tuesday   \n",
              "2           2  1144181         ad      False         21      Tuesday   \n",
              "3           3  1435133         ad      False        355      Tuesday   \n",
              "4           4  1015700         ad      False        276       Friday   \n",
              "\n",
              "   most ads hour  \n",
              "0             20  \n",
              "1             22  \n",
              "2             18  \n",
              "3             10  \n",
              "4             14  "
            ]
          },
          "execution_count": 9,
          "metadata": {},
          "output_type": "execute_result"
        }
      ],
      "source": [
        "df = pd.read_csv('marketing_AB.csv')\n",
        "df.head()"
      ]
    },
    {
      "cell_type": "code",
      "execution_count": null,
      "id": "cbbb4931-690f-4c98-bd2c-453ec9efbebb",
      "metadata": {
        "id": "cbbb4931-690f-4c98-bd2c-453ec9efbebb"
      },
      "outputs": [],
      "source": [
        "df.drop(columns = ['Unnamed: 0'], inplace = True)"
      ]
    },
    {
      "cell_type": "code",
      "execution_count": null,
      "id": "be17f634-c4c9-40d2-ac6a-c7c5930fa2f6",
      "metadata": {
        "id": "be17f634-c4c9-40d2-ac6a-c7c5930fa2f6",
        "outputId": "6c1cec30-ef0e-4ea7-866b-f50b1aa84527"
      },
      "outputs": [
        {
          "data": {
            "text/html": [
              "<div>\n",
              "<style scoped>\n",
              "    .dataframe tbody tr th:only-of-type {\n",
              "        vertical-align: middle;\n",
              "    }\n",
              "\n",
              "    .dataframe tbody tr th {\n",
              "        vertical-align: top;\n",
              "    }\n",
              "\n",
              "    .dataframe thead th {\n",
              "        text-align: right;\n",
              "    }\n",
              "</style>\n",
              "<table border=\"1\" class=\"dataframe\">\n",
              "  <thead>\n",
              "    <tr style=\"text-align: right;\">\n",
              "      <th></th>\n",
              "      <th>user_id</th>\n",
              "      <th>test_group</th>\n",
              "      <th>converted</th>\n",
              "      <th>total_ads</th>\n",
              "      <th>most_ads_day</th>\n",
              "      <th>most_ads_hour</th>\n",
              "    </tr>\n",
              "  </thead>\n",
              "  <tbody>\n",
              "    <tr>\n",
              "      <th>0</th>\n",
              "      <td>1069124</td>\n",
              "      <td>ad</td>\n",
              "      <td>False</td>\n",
              "      <td>130</td>\n",
              "      <td>Monday</td>\n",
              "      <td>20</td>\n",
              "    </tr>\n",
              "    <tr>\n",
              "      <th>1</th>\n",
              "      <td>1119715</td>\n",
              "      <td>ad</td>\n",
              "      <td>False</td>\n",
              "      <td>93</td>\n",
              "      <td>Tuesday</td>\n",
              "      <td>22</td>\n",
              "    </tr>\n",
              "    <tr>\n",
              "      <th>2</th>\n",
              "      <td>1144181</td>\n",
              "      <td>ad</td>\n",
              "      <td>False</td>\n",
              "      <td>21</td>\n",
              "      <td>Tuesday</td>\n",
              "      <td>18</td>\n",
              "    </tr>\n",
              "    <tr>\n",
              "      <th>3</th>\n",
              "      <td>1435133</td>\n",
              "      <td>ad</td>\n",
              "      <td>False</td>\n",
              "      <td>355</td>\n",
              "      <td>Tuesday</td>\n",
              "      <td>10</td>\n",
              "    </tr>\n",
              "    <tr>\n",
              "      <th>4</th>\n",
              "      <td>1015700</td>\n",
              "      <td>ad</td>\n",
              "      <td>False</td>\n",
              "      <td>276</td>\n",
              "      <td>Friday</td>\n",
              "      <td>14</td>\n",
              "    </tr>\n",
              "  </tbody>\n",
              "</table>\n",
              "</div>"
            ],
            "text/plain": [
              "   user_id test_group  converted  total_ads most_ads_day  most_ads_hour\n",
              "0  1069124         ad      False        130       Monday             20\n",
              "1  1119715         ad      False         93      Tuesday             22\n",
              "2  1144181         ad      False         21      Tuesday             18\n",
              "3  1435133         ad      False        355      Tuesday             10\n",
              "4  1015700         ad      False        276       Friday             14"
            ]
          },
          "execution_count": 11,
          "metadata": {},
          "output_type": "execute_result"
        }
      ],
      "source": [
        "df.columns = df.columns.str.strip().str.replace(' ', '_')\n",
        "df.head()"
      ]
    },
    {
      "cell_type": "code",
      "execution_count": null,
      "id": "5ea48149-b45a-426d-81b0-4ec306c4858c",
      "metadata": {
        "id": "5ea48149-b45a-426d-81b0-4ec306c4858c",
        "outputId": "0a769a6b-a5f8-4848-d180-26c1d6e1ede7"
      },
      "outputs": [
        {
          "data": {
            "text/plain": [
              "Index(['user_id', 'test_group', 'converted', 'total_ads', 'most_ads_day',\n",
              "       'most_ads_hour'],\n",
              "      dtype='object')"
            ]
          },
          "execution_count": 12,
          "metadata": {},
          "output_type": "execute_result"
        }
      ],
      "source": [
        "df.columns"
      ]
    },
    {
      "cell_type": "code",
      "execution_count": null,
      "id": "1d8bb9c4-e555-45c1-bf7e-9933eeb7be6a",
      "metadata": {
        "id": "1d8bb9c4-e555-45c1-bf7e-9933eeb7be6a",
        "outputId": "48e37d62-2b12-4ee9-d477-d13ffba9bbf4"
      },
      "outputs": [
        {
          "data": {
            "text/plain": [
              "(588101, 6)"
            ]
          },
          "execution_count": 13,
          "metadata": {},
          "output_type": "execute_result"
        }
      ],
      "source": [
        "df.shape"
      ]
    },
    {
      "cell_type": "code",
      "execution_count": null,
      "id": "24d60c61-1b4c-45f2-89fa-58b082ce6b7d",
      "metadata": {
        "id": "24d60c61-1b4c-45f2-89fa-58b082ce6b7d",
        "outputId": "dfc93fef-44df-4648-d5ff-4e0f71d2a756"
      },
      "outputs": [
        {
          "name": "stdout",
          "output_type": "stream",
          "text": [
            "<class 'pandas.core.frame.DataFrame'>\n",
            "RangeIndex: 588101 entries, 0 to 588100\n",
            "Data columns (total 6 columns):\n",
            " #   Column         Non-Null Count   Dtype \n",
            "---  ------         --------------   ----- \n",
            " 0   user_id        588101 non-null  int64 \n",
            " 1   test_group     588101 non-null  object\n",
            " 2   converted      588101 non-null  bool  \n",
            " 3   total_ads      588101 non-null  int64 \n",
            " 4   most_ads_day   588101 non-null  object\n",
            " 5   most_ads_hour  588101 non-null  int64 \n",
            "dtypes: bool(1), int64(3), object(2)\n",
            "memory usage: 23.0+ MB\n"
          ]
        }
      ],
      "source": [
        "df.info()"
      ]
    },
    {
      "cell_type": "code",
      "execution_count": null,
      "id": "7f2218f9-3292-4a4f-ba44-20b45f9467ad",
      "metadata": {
        "id": "7f2218f9-3292-4a4f-ba44-20b45f9467ad",
        "outputId": "a348ae79-f677-41c6-9af0-c2948a1d49e4"
      },
      "outputs": [
        {
          "data": {
            "text/plain": [
              "user_id          0\n",
              "test_group       0\n",
              "converted        0\n",
              "total_ads        0\n",
              "most_ads_day     0\n",
              "most_ads_hour    0\n",
              "dtype: int64"
            ]
          },
          "execution_count": 15,
          "metadata": {},
          "output_type": "execute_result"
        }
      ],
      "source": [
        "df.isnull().sum()"
      ]
    },
    {
      "cell_type": "code",
      "execution_count": null,
      "id": "0d60f228-818c-41fd-8e13-45ff4d4b5d1c",
      "metadata": {
        "id": "0d60f228-818c-41fd-8e13-45ff4d4b5d1c",
        "outputId": "966e4701-cd35-4596-f472-0ae57647ec86"
      },
      "outputs": [
        {
          "data": {
            "text/plain": [
              "0"
            ]
          },
          "execution_count": 16,
          "metadata": {},
          "output_type": "execute_result"
        }
      ],
      "source": [
        "df.duplicated().sum()"
      ]
    },
    {
      "cell_type": "markdown",
      "id": "8ab67e74-bccc-439f-b392-bed70e26d37d",
      "metadata": {
        "id": "8ab67e74-bccc-439f-b392-bed70e26d37d"
      },
      "source": [
        "# Starting Exploratory Data Analysis"
      ]
    },
    {
      "cell_type": "markdown",
      "id": "f450b559-a1d5-49da-a66d-58b35449bf5d",
      "metadata": {
        "id": "f450b559-a1d5-49da-a66d-58b35449bf5d"
      },
      "source": [
        "### 1. Analyze the experimental and control groups to determine if the ads were successful."
      ]
    },
    {
      "cell_type": "code",
      "execution_count": null,
      "id": "6e3acc7d-84c5-4d4d-8db1-d88c4e67c63a",
      "metadata": {
        "id": "6e3acc7d-84c5-4d4d-8db1-d88c4e67c63a",
        "outputId": "ad21d0b0-a9f4-4958-c09a-949c5ff44308"
      },
      "outputs": [
        {
          "data": {
            "text/plain": [
              "converted\n",
              "False    573258\n",
              "True      14843\n",
              "Name: count, dtype: int64"
            ]
          },
          "execution_count": 45,
          "metadata": {},
          "output_type": "execute_result"
        }
      ],
      "source": [
        "df['converted'].value_counts()"
      ]
    },
    {
      "cell_type": "code",
      "execution_count": null,
      "id": "9d15b463-6d2b-4c40-b7f3-2dcfa759b737",
      "metadata": {
        "id": "9d15b463-6d2b-4c40-b7f3-2dcfa759b737",
        "outputId": "5a707e6d-f245-42a1-a2a6-ae5785aa20e9"
      },
      "outputs": [
        {
          "data": {
            "text/plain": [
              "test_group\n",
              "ad     14423\n",
              "psa      420\n",
              "Name: converted, dtype: int64"
            ]
          },
          "execution_count": 46,
          "metadata": {},
          "output_type": "execute_result"
        }
      ],
      "source": [
        "conversion = df.groupby('test_group')['converted'].sum()\n",
        "conversion"
      ]
    },
    {
      "cell_type": "markdown",
      "id": "25949b7d-f00d-4269-b669-6e047a305cf3",
      "metadata": {
        "id": "25949b7d-f00d-4269-b669-6e047a305cf3"
      },
      "source": [
        "# How many people converted in the ad group"
      ]
    },
    {
      "cell_type": "code",
      "execution_count": null,
      "id": "0603b776-b2bb-430f-97a2-9803cd30155a",
      "metadata": {
        "id": "0603b776-b2bb-430f-97a2-9803cd30155a",
        "outputId": "41373da3-aca5-4d93-dea1-3013a6ed507a"
      },
      "outputs": [
        {
          "name": "stdout",
          "output_type": "stream",
          "text": [
            "people converted in the ad group are 14423 in Numbers\n"
          ]
        }
      ],
      "source": [
        "ad_converted = df[(df['test_group'] == 'ad') & (df['converted'])].shape[0]\n",
        "print(f'people converted in the ad group are {ad_converted} in Numbers')"
      ]
    },
    {
      "cell_type": "markdown",
      "id": "dd4847d9-8ecd-4f32-b198-bdca5f93eece",
      "metadata": {
        "id": "dd4847d9-8ecd-4f32-b198-bdca5f93eece"
      },
      "source": [
        "# How many people converted in the psa group"
      ]
    },
    {
      "cell_type": "code",
      "execution_count": null,
      "id": "697e09b2-6046-4c1f-9fd0-e5bf5034a255",
      "metadata": {
        "id": "697e09b2-6046-4c1f-9fd0-e5bf5034a255",
        "outputId": "1f80bfdf-45b4-4f73-e862-5d7c49dba884"
      },
      "outputs": [
        {
          "name": "stdout",
          "output_type": "stream",
          "text": [
            "people converted in the psa group are 420 in Numbers\n"
          ]
        }
      ],
      "source": [
        "psa_converted = df[(df['test_group'] == 'psa') & (df['converted'])].shape[0]\n",
        "print(f'people converted in the psa group are {psa_converted} in Numbers')"
      ]
    },
    {
      "cell_type": "markdown",
      "id": "5a9ba304-f768-4009-88ce-6239a1ff46c7",
      "metadata": {
        "id": "5a9ba304-f768-4009-88ce-6239a1ff46c7"
      },
      "source": [
        "# To visualize the conversion rate by test group"
      ]
    },
    {
      "cell_type": "code",
      "execution_count": null,
      "id": "c9cff73e-7a93-4419-80db-9a71aa17732a",
      "metadata": {
        "id": "c9cff73e-7a93-4419-80db-9a71aa17732a",
        "outputId": "e0734f19-70f1-415c-9d28-1b44bb10f444"
      },
      "outputs": [
        {
          "data": {
            "image/png": "[encoded data removed]",
            "text/plain": [
              "<Figure size 640x480 with 1 Axes>"
            ]
          },
          "metadata": {},
          "output_type": "display_data"
        }
      ],
      "source": [
        "sns.barplot(x=conversion.index, y = conversion.values)\n",
        "plt.title('number of conversion by \"ad vs psa\"')\n",
        "plt.ylabel('conversion rate (%)')\n",
        "plt.show()"
      ]
    },
    {
      "cell_type": "code",
      "execution_count": null,
      "id": "2f6b2ba8-c277-4f1b-aebe-f8921ef9b70f",
      "metadata": {
        "id": "2f6b2ba8-c277-4f1b-aebe-f8921ef9b70f",
        "outputId": "17cafc79-8de1-4da3-a3cd-1b8c0469f389"
      },
      "outputs": [
        {
          "data": {
            "text/plain": [
              "test_group\n",
              "ad     2.554656\n",
              "psa    1.785411\n",
              "Name: converted, dtype: float64"
            ]
          },
          "execution_count": 50,
          "metadata": {},
          "output_type": "execute_result"
        }
      ],
      "source": [
        "#Rate of people converted by Ad and psa group\n",
        "conversion_rate = df.groupby('test_group')['converted'].mean()*100\n",
        "conversion_rate"
      ]
    },
    {
      "cell_type": "code",
      "execution_count": null,
      "id": "030157ec-63d4-4e40-9d21-27785119cdb8",
      "metadata": {
        "id": "030157ec-63d4-4e40-9d21-27785119cdb8",
        "outputId": "2b928b90-4a4b-47d1-fecc-bfe184fbf9b2"
      },
      "outputs": [
        {
          "data": {
            "image/png": "[encoded data removed]",
            "text/plain": [
              "<Figure size 600x600 with 1 Axes>"
            ]
          },
          "metadata": {},
          "output_type": "display_data"
        }
      ],
      "source": [
        "# Create pie chart of rate of people converted by Ad and psa group\n",
        "plt.figure(figsize=(6,6))\n",
        "plt.pie(conversion_rate, labels=conversion_rate.index, autopct='%1.1f%%', startangle=90)\n",
        "plt.title('Conversion rate (%) by Group ad vs psa')\n",
        "plt.axis('equal')  # Makes the pie chart a circle\n",
        "plt.show()"
      ]
    },
    {
      "cell_type": "markdown",
      "id": "0c7778fe-bd88-4d27-86f7-206df3db0fa2",
      "metadata": {
        "id": "0c7778fe-bd88-4d27-86f7-206df3db0fa2"
      },
      "source": [
        "## 2. To Estimate the potential revenue generated from the ads."
      ]
    },
    {
      "cell_type": "code",
      "execution_count": null,
      "id": "31fc5193-6a30-4bf4-9080-36b3404977d3",
      "metadata": {
        "id": "31fc5193-6a30-4bf4-9080-36b3404977d3",
        "outputId": "2fa3d28a-c851-42dd-8f93-61f6f4f12f0d"
      },
      "outputs": [
        {
          "name": "stdout",
          "output_type": "stream",
          "text": [
            "Conversions from Ads: 14423\n",
            "Estimated Revenue: ₦2,884,600\n"
          ]
        }
      ],
      "source": [
        "# Step 1: Filter only users in the 'ad' group who converted\n",
        "\n",
        "conversions_from_ads = ad_group['converted'].sum()\n",
        "\n",
        "# Step 2: Assume a value for average revenue per purchase\n",
        "revenue_per_conversion = 200  # Adjust to your business case\n",
        "\n",
        "# Step 3: Calculate total revenue from ads\n",
        "total_revenue = conversions_from_ads * revenue_per_conversion\n",
        "\n",
        "print(f\"Conversions from Ads: {conversions_from_ads}\")\n",
        "print(f\"Estimated Revenue: ₦{total_revenue:,}\")"
      ]
    },
    {
      "cell_type": "markdown",
      "id": "2234c9be-5ca5-4a68-869c-62ffdc429013",
      "metadata": {
        "id": "2234c9be-5ca5-4a68-869c-62ffdc429013"
      },
      "source": [
        "## 3. Hypothesis Testing (A/B testing technique)"
      ]
    },
    {
      "cell_type": "code",
      "execution_count": null,
      "id": "0ff2e693-c4d4-4e5e-bedb-685befbb4fb7",
      "metadata": {
        "id": "0ff2e693-c4d4-4e5e-bedb-685befbb4fb7",
        "outputId": "d8a65bf6-3738-41f2-c297-7e2390660482"
      },
      "outputs": [
        {
          "data": {
            "text/plain": [
              "test_group\n",
              "ad     564577\n",
              "psa     23524\n",
              "Name: converted, dtype: int64"
            ]
          },
          "execution_count": 53,
          "metadata": {},
          "output_type": "execute_result"
        }
      ],
      "source": [
        "# To count the total Audience bot where the converted is successful and not successfull\n",
        "total_audience = df.groupby('test_group')['converted'].count()\n",
        "total_audience"
      ]
    },
    {
      "cell_type": "code",
      "execution_count": null,
      "id": "21c0d9be-71a2-4ed3-9633-5bacb342fa00",
      "metadata": {
        "id": "21c0d9be-71a2-4ed3-9633-5bacb342fa00",
        "outputId": "5e8e78ca-fa12-4a3c-dac6-b0112ddd874d"
      },
      "outputs": [
        {
          "data": {
            "text/plain": [
              "test_group\n",
              "ad     14423\n",
              "psa      420\n",
              "Name: converted, dtype: int64"
            ]
          },
          "execution_count": 54,
          "metadata": {},
          "output_type": "execute_result"
        }
      ],
      "source": [
        "#This is where conversion is successfull\n",
        "conversion"
      ]
    },
    {
      "cell_type": "markdown",
      "id": "dc0a2f79-74dd-4c2e-badf-92cc6d0a88ef",
      "metadata": {
        "id": "dc0a2f79-74dd-4c2e-badf-92cc6d0a88ef"
      },
      "source": [
        "**SOLUTION**\n",
        "\n",
        "My hypothesis is as follows:\n",
        "\n",
        "**Null Hypothesis (H₀):** The ad had no successful impact on conversion (i.e., conversion rate did not change).\n",
        "\n",
        "**Alternative Hypothesis (H₁):** The ad had a successful impact on conversion (i.e., conversion rate increased).\n"
      ]
    },
    {
      "cell_type": "code",
      "execution_count": null,
      "id": "33fc9bb7-fc86-41af-82d9-4769a77e256b",
      "metadata": {
        "id": "33fc9bb7-fc86-41af-82d9-4769a77e256b",
        "outputId": "db50bf63-49dd-42cb-fcd8-be9b7114414a"
      },
      "outputs": [
        {
          "name": "stdout",
          "output_type": "stream",
          "text": [
            "Z-score: 7.37\n",
            "P-value: 0.0000\n"
          ]
        }
      ],
      "source": [
        "z_score,p_value = proportions_ztest(count=conversion, nobs=total_audience)\n",
        "print(f'Z-score: {z_score:.2f}')\n",
        "print(f'P-value: {p_value:.4f}')"
      ]
    },
    {
      "cell_type": "markdown",
      "id": "856ac634-4956-4a43-950f-bb53e53ac825",
      "metadata": {
        "id": "856ac634-4956-4a43-950f-bb53e53ac825"
      },
      "source": [
        "**Z-Score = 7.37 means this is a very high Z-score**\n",
        "and A **p-value of 0.0000** means:\n",
        "It is **extremely unlikely this happened by chance.**"
      ]
    },
    {
      "cell_type": "markdown",
      "id": "79f0d726-4435-481b-b75c-b6ae9a12d174",
      "metadata": {
        "id": "79f0d726-4435-481b-b75c-b6ae9a12d174"
      },
      "source": [
        "##### Therefore\n",
        "**I accept the Alternative hypothesis $H_1$**: that There is **strong statistical evidence** that the **ad had a significant and successful impact on conversion.**\n",
        "i.e I reject the **null hypothesis** and accept the **alternative hypothesis.**"
      ]
    },
    {
      "cell_type": "code",
      "execution_count": null,
      "id": "4f332bb6-1b01-4d96-8c64-b97b156dbd34",
      "metadata": {
        "id": "4f332bb6-1b01-4d96-8c64-b97b156dbd34"
      },
      "outputs": [],
      "source": []
    },
    {
      "cell_type": "markdown",
      "id": "83245081-8b01-4ad5-8c21-7530e4b3dcef",
      "metadata": {
        "id": "83245081-8b01-4ad5-8c21-7530e4b3dcef"
      },
      "source": [
        "# THANKS"
      ]
    }
  ],
  "metadata": {
    "colab": {
      "provenance": [],
      "include_colab_link": true
    },
    "kernelspec": {
      "display_name": "Python 3 (ipykernel)",
      "language": "python",
      "name": "python3"
    },
    "language_info": {
      "codemirror_mode": {
        "name": "ipython",
        "version": 3
      },
      "file_extension": ".py",
      "mimetype": "text/x-python",
      "name": "python",
      "nbconvert_exporter": "python",
      "pygments_lexer": "ipython3",
      "version": "3.12.7"
    }
  },
  "nbformat": 4,
  "nbformat_minor": 5
}